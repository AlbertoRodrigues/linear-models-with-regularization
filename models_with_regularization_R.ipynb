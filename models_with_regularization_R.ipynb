{
 "cells": [
  {
   "cell_type": "code",
   "execution_count": 1,
   "metadata": {},
   "outputs": [
    {
     "name": "stderr",
     "output_type": "stream",
     "text": [
      "Loading required package: glmnet\n",
      "Loading required package: Matrix\n",
      "Loading required package: foreach\n",
      "Loaded glmnet 2.0-16\n",
      "\n",
      "Loading required package: caret\n",
      "Loading required package: lattice\n",
      "Loading required package: ggplot2\n",
      "Warning message:\n",
      "\"package 'ggplot2' was built under R version 3.5.3\""
     ]
    }
   ],
   "source": [
    "require(glmnet)\n",
    "require(caret)"
   ]
  },
  {
   "cell_type": "markdown",
   "metadata": {},
   "source": [
    "# Criação dos dados e atribuição dos parâmetros"
   ]
  },
  {
   "cell_type": "code",
   "execution_count": 2,
   "metadata": {},
   "outputs": [],
   "source": [
    "set.seed(7)\n",
    "x = rnorm(100, 2, 0.5)\n",
    "e = rnorm(100)\n",
    "b0=1.4\n",
    "b1=2.5\n",
    "b2=7.2\n",
    "b3=1.8"
   ]
  },
  {
   "cell_type": "code",
   "execution_count": 3,
   "metadata": {},
   "outputs": [
    {
     "data": {
      "text/html": [
       "<table>\n",
       "<thead><tr><th></th><th scope=col>x</th><th scope=col>I(x^2)</th><th scope=col>I(x^3)</th></tr></thead>\n",
       "<tbody>\n",
       "\t<tr><th scope=row>1</th><td>3.143624 </td><td>9.882369 </td><td>31.066449</td></tr>\n",
       "\t<tr><th scope=row>2</th><td>1.401614 </td><td>1.964522 </td><td> 2.753502</td></tr>\n",
       "\t<tr><th scope=row>3</th><td>1.652854 </td><td>2.731926 </td><td> 4.515473</td></tr>\n",
       "\t<tr><th scope=row>4</th><td>1.793854 </td><td>3.217910 </td><td> 5.772460</td></tr>\n",
       "\t<tr><th scope=row>5</th><td>1.514663 </td><td>2.294205 </td><td> 3.474948</td></tr>\n",
       "\t<tr><th scope=row>6</th><td>1.526360 </td><td>2.329775 </td><td> 3.556075</td></tr>\n",
       "</tbody>\n",
       "</table>\n"
      ],
      "text/latex": [
       "\\begin{tabular}{r|lll}\n",
       "  & x & I(x\\textasciicircum{}2) & I(x\\textasciicircum{}3)\\\\\n",
       "\\hline\n",
       "\t1 & 3.143624  & 9.882369  & 31.066449\\\\\n",
       "\t2 & 1.401614  & 1.964522  &  2.753502\\\\\n",
       "\t3 & 1.652854  & 2.731926  &  4.515473\\\\\n",
       "\t4 & 1.793854  & 3.217910  &  5.772460\\\\\n",
       "\t5 & 1.514663  & 2.294205  &  3.474948\\\\\n",
       "\t6 & 1.526360  & 2.329775  &  3.556075\\\\\n",
       "\\end{tabular}\n"
      ],
      "text/markdown": [
       "\n",
       "| <!--/--> | x | I(x^2) | I(x^3) | \n",
       "|---|---|---|---|---|---|\n",
       "| 1 | 3.143624  | 9.882369  | 31.066449 | \n",
       "| 2 | 1.401614  | 1.964522  |  2.753502 | \n",
       "| 3 | 1.652854  | 2.731926  |  4.515473 | \n",
       "| 4 | 1.793854  | 3.217910  |  5.772460 | \n",
       "| 5 | 1.514663  | 2.294205  |  3.474948 | \n",
       "| 6 | 1.526360  | 2.329775  |  3.556075 | \n",
       "\n",
       "\n"
      ],
      "text/plain": [
       "  x        I(x^2)   I(x^3)   \n",
       "1 3.143624 9.882369 31.066449\n",
       "2 1.401614 1.964522  2.753502\n",
       "3 1.652854 2.731926  4.515473\n",
       "4 1.793854 3.217910  5.772460\n",
       "5 1.514663 2.294205  3.474948\n",
       "6 1.526360 2.329775  3.556075"
      ]
     },
     "metadata": {},
     "output_type": "display_data"
    }
   ],
   "source": [
    "y = b0+x*b1+(x^2)*b2+(x^3)*b3+e\n",
    "X=model.matrix(y~x+I(x^2)+I(x^3))[,-1]\n",
    "head(X)"
   ]
  },
  {
   "cell_type": "code",
   "execution_count": 4,
   "metadata": {},
   "outputs": [
    {
     "data": {
      "text/html": [
       "<table>\n",
       "<thead><tr><th scope=col>x</th><th scope=col>I(x^2)</th><th scope=col>I(x^3)</th><th scope=col>y</th></tr></thead>\n",
       "<tbody>\n",
       "\t<tr><td>3.143624 </td><td>9.882369 </td><td>31.066449</td><td>136.85078</td></tr>\n",
       "\t<tr><td>1.401614 </td><td>1.964522 </td><td> 2.753502</td><td> 24.59244</td></tr>\n",
       "\t<tr><td>1.652854 </td><td>2.731926 </td><td> 4.515473</td><td> 33.25052</td></tr>\n",
       "\t<tr><td>1.793854 </td><td>3.217910 </td><td> 5.772460</td><td> 38.26966</td></tr>\n",
       "\t<tr><td>1.514663 </td><td>2.294205 </td><td> 3.474948</td><td> 28.26856</td></tr>\n",
       "\t<tr><td>1.526360 </td><td>2.329775 </td><td> 3.556075</td><td> 26.78734</td></tr>\n",
       "</tbody>\n",
       "</table>\n"
      ],
      "text/latex": [
       "\\begin{tabular}{r|llll}\n",
       " x & I(x\\textasciicircum{}2) & I(x\\textasciicircum{}3) & y\\\\\n",
       "\\hline\n",
       "\t 3.143624  & 9.882369  & 31.066449 & 136.85078\\\\\n",
       "\t 1.401614  & 1.964522  &  2.753502 &  24.59244\\\\\n",
       "\t 1.652854  & 2.731926  &  4.515473 &  33.25052\\\\\n",
       "\t 1.793854  & 3.217910  &  5.772460 &  38.26966\\\\\n",
       "\t 1.514663  & 2.294205  &  3.474948 &  28.26856\\\\\n",
       "\t 1.526360  & 2.329775  &  3.556075 &  26.78734\\\\\n",
       "\\end{tabular}\n"
      ],
      "text/markdown": [
       "\n",
       "x | I(x^2) | I(x^3) | y | \n",
       "|---|---|---|---|---|---|\n",
       "| 3.143624  | 9.882369  | 31.066449 | 136.85078 | \n",
       "| 1.401614  | 1.964522  |  2.753502 |  24.59244 | \n",
       "| 1.652854  | 2.731926  |  4.515473 |  33.25052 | \n",
       "| 1.793854  | 3.217910  |  5.772460 |  38.26966 | \n",
       "| 1.514663  | 2.294205  |  3.474948 |  28.26856 | \n",
       "| 1.526360  | 2.329775  |  3.556075 |  26.78734 | \n",
       "\n",
       "\n"
      ],
      "text/plain": [
       "  x        I(x^2)   I(x^3)    y        \n",
       "1 3.143624 9.882369 31.066449 136.85078\n",
       "2 1.401614 1.964522  2.753502  24.59244\n",
       "3 1.652854 2.731926  4.515473  33.25052\n",
       "4 1.793854 3.217910  5.772460  38.26966\n",
       "5 1.514663 2.294205  3.474948  28.26856\n",
       "6 1.526360 2.329775  3.556075  26.78734"
      ]
     },
     "metadata": {},
     "output_type": "display_data"
    }
   ],
   "source": [
    "dados=cbind.data.frame(X,y)\n",
    "head(dados)"
   ]
  },
  {
   "cell_type": "code",
   "execution_count": 5,
   "metadata": {},
   "outputs": [],
   "source": [
    "lambda = 10^seq(-4, 4, length = 200)"
   ]
  },
  {
   "cell_type": "markdown",
   "metadata": {},
   "source": [
    "# Regressão Ridge"
   ]
  },
  {
   "cell_type": "code",
   "execution_count": 6,
   "metadata": {},
   "outputs": [],
   "source": [
    "modelo1 <- train(\n",
    "  y ~., data = dados, method = \"glmnet\",\n",
    "  trControl = trainControl(\"cv\", number = 10),\n",
    "  tuneGrid = expand.grid(alpha = 0, lambda = lambda),\n",
    "  metric=\"MAE\"\n",
    ")"
   ]
  },
  {
   "cell_type": "code",
   "execution_count": 7,
   "metadata": {},
   "outputs": [
    {
     "data": {},
     "metadata": {},
     "output_type": "display_data"
    },
    {
     "data": {
      "image/png": "[encoded data removed]",
      "text/plain": [
       "plot without title"
      ]
     },
     "metadata": {},
     "output_type": "display_data"
    }
   ],
   "source": [
    "plot(modelo1,sign.lambda = 1)"
   ]
  },
  {
   "cell_type": "code",
   "execution_count": 8,
   "metadata": {},
   "outputs": [
    {
     "data": {
      "text/html": [
       "<table>\n",
       "<thead><tr><th></th><th scope=col>alpha</th><th scope=col>lambda</th><th scope=col>RMSE</th><th scope=col>Rsquared</th><th scope=col>MAE</th><th scope=col>RMSESD</th><th scope=col>RsquaredSD</th><th scope=col>MAESD</th></tr></thead>\n",
       "<tbody>\n",
       "\t<tr><th scope=row>110</th><td>0           </td><td>2.409404    </td><td>1.522001    </td><td>0.9983686   </td><td>1.132945    </td><td>1.003832    </td><td>0.0007841911</td><td>0.6698163   </td></tr>\n",
       "</tbody>\n",
       "</table>\n"
      ],
      "text/latex": [
       "\\begin{tabular}{r|llllllll}\n",
       "  & alpha & lambda & RMSE & Rsquared & MAE & RMSESD & RsquaredSD & MAESD\\\\\n",
       "\\hline\n",
       "\t110 & 0            & 2.409404     & 1.522001     & 0.9983686    & 1.132945     & 1.003832     & 0.0007841911 & 0.6698163   \\\\\n",
       "\\end{tabular}\n"
      ],
      "text/markdown": [
       "\n",
       "| <!--/--> | alpha | lambda | RMSE | Rsquared | MAE | RMSESD | RsquaredSD | MAESD | \n",
       "|---|\n",
       "| 110 | 0            | 2.409404     | 1.522001     | 0.9983686    | 1.132945     | 1.003832     | 0.0007841911 | 0.6698163    | \n",
       "\n",
       "\n"
      ],
      "text/plain": [
       "    alpha lambda   RMSE     Rsquared  MAE      RMSESD   RsquaredSD   MAESD    \n",
       "110 0     2.409404 1.522001 0.9983686 1.132945 1.003832 0.0007841911 0.6698163"
      ]
     },
     "metadata": {},
     "output_type": "display_data"
    }
   ],
   "source": [
    "pos=which(modelo1$results$lambda==modelo1$bestTune$lambda)\n",
    "modelo1$results[pos,]"
   ]
  },
  {
   "cell_type": "code",
   "execution_count": 9,
   "metadata": {},
   "outputs": [
    {
     "data": {
      "text/plain": [
       "4 x 1 sparse Matrix of class \"dgCMatrix\"\n",
       "                     1\n",
       "(Intercept) -12.608197\n",
       "x            16.501429\n",
       "`I(x^2)`      4.594370\n",
       "`I(x^3)`      1.500953"
      ]
     },
     "metadata": {},
     "output_type": "display_data"
    }
   ],
   "source": [
    "coef(modelo1$finalModel, modelo1$bestTune$lambda)"
   ]
  },
  {
   "cell_type": "markdown",
   "metadata": {},
   "source": [
    "# Regressão Lasso"
   ]
  },
  {
   "cell_type": "code",
   "execution_count": 10,
   "metadata": {},
   "outputs": [
    {
     "name": "stderr",
     "output_type": "stream",
     "text": [
      "Warning message in nominalTrainWorkflow(x = x, y = y, wts = weights, info = trainInfo, :\n",
      "\"There were missing values in resampled performance measures.\""
     ]
    }
   ],
   "source": [
    "modelo2 <- train(\n",
    "  y ~., data = dados, method = \"glmnet\",\n",
    "  trControl = trainControl(\"cv\", number = 10),\n",
    "  tuneGrid = expand.grid(alpha = 1, lambda = lambda),\n",
    "  metric=\"MAE\"\n",
    ")"
   ]
  },
  {
   "cell_type": "code",
   "execution_count": 11,
   "metadata": {},
   "outputs": [
    {
     "data": {},
     "metadata": {},
     "output_type": "display_data"
    },
    {
     "data": {
      "image/png": "[encoded data removed]",
      "text/plain": [
       "plot without title"
      ]
     },
     "metadata": {},
     "output_type": "display_data"
    }
   ],
   "source": [
    "plot(modelo2,sign.lambda = 1)"
   ]
  },
  {
   "cell_type": "code",
   "execution_count": 12,
   "metadata": {},
   "outputs": [
    {
     "data": {
      "text/html": [
       "<table>\n",
       "<thead><tr><th></th><th scope=col>alpha</th><th scope=col>lambda</th><th scope=col>RMSE</th><th scope=col>Rsquared</th><th scope=col>MAE</th><th scope=col>RMSESD</th><th scope=col>RsquaredSD</th><th scope=col>MAESD</th></tr></thead>\n",
       "<tbody>\n",
       "\t<tr><th scope=row>81</th><td>1          </td><td>0.1644676  </td><td>0.9958611  </td><td>0.9987675  </td><td>0.8107235  </td><td>0.2183334  </td><td>0.001122578</td><td>0.203143   </td></tr>\n",
       "</tbody>\n",
       "</table>\n"
      ],
      "text/latex": [
       "\\begin{tabular}{r|llllllll}\n",
       "  & alpha & lambda & RMSE & Rsquared & MAE & RMSESD & RsquaredSD & MAESD\\\\\n",
       "\\hline\n",
       "\t81 & 1           & 0.1644676   & 0.9958611   & 0.9987675   & 0.8107235   & 0.2183334   & 0.001122578 & 0.203143   \\\\\n",
       "\\end{tabular}\n"
      ],
      "text/markdown": [
       "\n",
       "| <!--/--> | alpha | lambda | RMSE | Rsquared | MAE | RMSESD | RsquaredSD | MAESD | \n",
       "|---|\n",
       "| 81 | 1           | 0.1644676   | 0.9958611   | 0.9987675   | 0.8107235   | 0.2183334   | 0.001122578 | 0.203143    | \n",
       "\n",
       "\n"
      ],
      "text/plain": [
       "   alpha lambda    RMSE      Rsquared  MAE       RMSESD    RsquaredSD  MAESD   \n",
       "81 1     0.1644676 0.9958611 0.9987675 0.8107235 0.2183334 0.001122578 0.203143"
      ]
     },
     "metadata": {},
     "output_type": "display_data"
    }
   ],
   "source": [
    "pos=which(modelo2$results$lambda==modelo2$bestTune$lambda)\n",
    "modelo2$results[pos,]"
   ]
  },
  {
   "cell_type": "code",
   "execution_count": 13,
   "metadata": {},
   "outputs": [
    {
     "data": {
      "text/plain": [
       "4 x 1 sparse Matrix of class \"dgCMatrix\"\n",
       "                   1\n",
       "(Intercept) 2.563494\n",
       "x           .       \n",
       "`I(x^2)`    8.999799\n",
       "`I(x^3)`    1.414493"
      ]
     },
     "metadata": {},
     "output_type": "display_data"
    }
   ],
   "source": [
    "coef(modelo2$finalModel, modelo2$bestTune$lambda)"
   ]
  },
  {
   "cell_type": "markdown",
   "metadata": {},
   "source": [
    "# Elastic Net"
   ]
  },
  {
   "cell_type": "code",
   "execution_count": 14,
   "metadata": {},
   "outputs": [],
   "source": [
    "modelo3 <- train(\n",
    "  y ~., data =dados, method = \"glmnet\",\n",
    "  trControl = trainControl(\"cv\", number = 10),\n",
    "  tuneLength = 10,\n",
    "  metric=\"MAE\"\n",
    ")"
   ]
  },
  {
   "cell_type": "code",
   "execution_count": 15,
   "metadata": {},
   "outputs": [
    {
     "data": {},
     "metadata": {},
     "output_type": "display_data"
    },
    {
     "data": {
      "image/png": "[encoded data removed]",
      "text/plain": [
       "plot without title"
      ]
     },
     "metadata": {},
     "output_type": "display_data"
    }
   ],
   "source": [
    "plot(modelo3,sign.lambda = 1)"
   ]
  },
  {
   "cell_type": "code",
   "execution_count": 16,
   "metadata": {},
   "outputs": [
    {
     "data": {
      "text/html": [
       "<table>\n",
       "<thead><tr><th></th><th scope=col>alpha</th><th scope=col>lambda</th><th scope=col>RMSE</th><th scope=col>Rsquared</th><th scope=col>MAE</th><th scope=col>RMSESD</th><th scope=col>RsquaredSD</th><th scope=col>MAESD</th></tr></thead>\n",
       "<tbody>\n",
       "\t<tr><th scope=row>57</th><td>0.9         </td><td>0.1657108   </td><td>0.9545851   </td><td>0.9990228   </td><td>0.786608    </td><td>0.2301712   </td><td>0.0005973043</td><td>0.2127513   </td></tr>\n",
       "</tbody>\n",
       "</table>\n"
      ],
      "text/latex": [
       "\\begin{tabular}{r|llllllll}\n",
       "  & alpha & lambda & RMSE & Rsquared & MAE & RMSESD & RsquaredSD & MAESD\\\\\n",
       "\\hline\n",
       "\t57 & 0.9          & 0.1657108    & 0.9545851    & 0.9990228    & 0.786608     & 0.2301712    & 0.0005973043 & 0.2127513   \\\\\n",
       "\\end{tabular}\n"
      ],
      "text/markdown": [
       "\n",
       "| <!--/--> | alpha | lambda | RMSE | Rsquared | MAE | RMSESD | RsquaredSD | MAESD | \n",
       "|---|\n",
       "| 57 | 0.9          | 0.1657108    | 0.9545851    | 0.9990228    | 0.786608     | 0.2301712    | 0.0005973043 | 0.2127513    | \n",
       "\n",
       "\n"
      ],
      "text/plain": [
       "   alpha lambda    RMSE      Rsquared  MAE      RMSESD    RsquaredSD  \n",
       "57 0.9   0.1657108 0.9545851 0.9990228 0.786608 0.2301712 0.0005973043\n",
       "   MAESD    \n",
       "57 0.2127513"
      ]
     },
     "metadata": {},
     "output_type": "display_data"
    }
   ],
   "source": [
    "pos=which(modelo3$results$alpha==modelo3$bestTune$alpha & modelo3$results$lambda==modelo3$bestTune$lambda)\n",
    "modelo3$results[pos,]"
   ]
  },
  {
   "cell_type": "code",
   "execution_count": 17,
   "metadata": {},
   "outputs": [
    {
     "data": {
      "text/plain": [
       "4 x 1 sparse Matrix of class \"dgCMatrix\"\n",
       "                    1\n",
       "(Intercept) -2.620497\n",
       "x            7.493423\n",
       "`I(x^2)`     5.562666\n",
       "`I(x^3)`     1.916511"
      ]
     },
     "metadata": {},
     "output_type": "display_data"
    }
   ],
   "source": [
    "coef(modelo3$finalModel, modelo3$bestTune$lambda)"
   ]
  },
  {
   "cell_type": "code",
   "execution_count": 18,
   "metadata": {},
   "outputs": [
    {
     "data": {
      "text/plain": [
       "\n",
       "Call:\n",
       "summary.resamples(object = resamples(modelos), metric = c(\"RMSE\",\n",
       " \"MAE\", \"Rsquared\"))\n",
       "\n",
       "Models: Ridge, Lasso, Elastic_Net \n",
       "Number of resamples: 10 \n",
       "\n",
       "RMSE \n",
       "                 Min.   1st Qu.    Median      Mean  3rd Qu.     Max. NA's\n",
       "Ridge       0.6472838 0.8827313 1.1862040 1.5220013 1.573440 3.677943    0\n",
       "Lasso       0.6626747 0.9313039 0.9548530 0.9958611 1.166018 1.307871    0\n",
       "Elastic_Net 0.6453453 0.7860743 0.9278534 0.9545851 1.097566 1.336260    0\n",
       "\n",
       "MAE \n",
       "                 Min.   1st Qu.    Median      Mean   3rd Qu.     Max. NA's\n",
       "Ridge       0.4462966 0.7458062 0.9220326 1.1329454 1.1478314 2.523748    0\n",
       "Lasso       0.5130611 0.6442128 0.8235175 0.8107235 0.9333442 1.104932    0\n",
       "Elastic_Net 0.4756163 0.6717140 0.7344688 0.7866080 0.9366188 1.131998    0\n",
       "\n",
       "Rsquared \n",
       "                 Min.   1st Qu.    Median      Mean   3rd Qu.      Max. NA's\n",
       "Ridge       0.9969065 0.9979365 0.9983361 0.9983686 0.9989557 0.9994046    0\n",
       "Lasso       0.9959874 0.9983818 0.9991818 0.9987675 0.9993572 0.9998035    0\n",
       "Elastic_Net 0.9978190 0.9987524 0.9991597 0.9990228 0.9994838 0.9996668    0\n"
      ]
     },
     "metadata": {},
     "output_type": "display_data"
    }
   ],
   "source": [
    "modelos = list(Ridge = modelo1, Lasso = modelo2, Elastic_Net = modelo3)\n",
    "summary(resamples(modelos), metric = c(\"RMSE\",\"MAE\",\"Rsquared\"))"
   ]
  }
 ],
 "metadata": {
  "kernelspec": {
   "display_name": "R",
   "language": "R",
   "name": "ir"
  },
  "language_info": {
   "codemirror_mode": "r",
   "file_extension": ".r",
   "mimetype": "text/x-r-source",
   "name": "R",
   "pygments_lexer": "r",
   "version": "3.5.1"
  }
 },
 "nbformat": 4,
 "nbformat_minor": 2
}
